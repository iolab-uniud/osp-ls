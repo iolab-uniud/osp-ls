{
 "cells": [
  {
   "cell_type": "code",
   "execution_count": 47,
   "metadata": {},
   "outputs": [],
   "source": [
    "import pandas as pd\n",
    "import utils\n",
    "\n",
    "# figures library\n",
    "\n",
    "import matplotlib.pyplot as plt\n",
    "plt.rcParams.update({'pdf.fonttype': 42})\n",
    "\n",
    "import seaborn as sns\n",
    "sns.set(style='whitegrid',context=\"poster\")"
   ]
  },
  {
   "cell_type": "code",
   "execution_count": 48,
   "metadata": {},
   "outputs": [],
   "source": [
    "def label_gap(gap):\n",
    "    if gap > 0:\n",
    "        return \"state-of-art\"\n",
    "    if gap < 0:\n",
    "        return \"sa\"\n",
    "    return \"equal\"\n",
    "\n",
    "def label_nuances(gap): \n",
    "    if gap > 1:\n",
    "        return \">1\"\n",
    "    if gap < -1:\n",
    "        return \"< -1\"\n",
    "    if gap > 0:\n",
    "        return \" 0 to 1\"\n",
    "    if gap < 0:\n",
    "        return \"-1 to 0\"\n",
    "    return \"equal\""
   ]
  },
  {
   "cell_type": "code",
   "execution_count": 49,
   "metadata": {},
   "outputs": [],
   "source": [
    "def create_df_for_gap(uc,selector):\n",
    "    sa = pd.read_csv(f\"../processed-datasets/sa-1-milion/sa-uc{uc}-1-milion.csv\", index_col=0)\n",
    "    exact = pd.read_csv(f\"../processed-datasets/exact-methods/exact-methods-uc-{uc}.csv\", index_col=0)\n",
    "    lns = pd.read_csv(f\"../processed-datasets/lns-results/lns-uc-{uc}.csv\", index_col=0)\n",
    "\n",
    "    df = pd.merge(sa,exact,on=\"instance\")\n",
    "    df = pd.merge(df,lns,on=\"instance\")\n",
    "    df[\"state_of_art\"] = df.apply(lambda row: utils.state_of_the_art([row[\"ilp\"],row[\"cp\"],row[\"LNS\"]]),axis=1)\n",
    "    df[\"gap\"] = df.apply(lambda row: utils.calculate_gap(row[\"total_cost_min\"],row[\"state_of_art\"]),axis=1)\n",
    "    df[\"gap_ilp\"] = df.apply(lambda row: utils.calculate_gap(row[\"total_cost_min\"],row[\"ilp\"]),axis=1)\n",
    "    df[\"gap_cp\"] = df.apply(lambda row: utils.calculate_gap(row[\"total_cost_min\"],row[\"cp\"]),axis=1)\n",
    "    df[\"gap_lns\"] = df.apply(lambda row: utils.calculate_gap(row[\"total_cost_min\"],row[\"LNS\"]),axis=1)\n",
    "    df[\"label_gap\"] = df.apply(lambda row: label_gap(row[\"gap\"]),axis=1)\n",
    "    df[\"label_nuances\"] = df.apply(lambda row: label_nuances(row[\"gap\"]),axis=1)\n",
    "    df[\"n_jobs\"] = df.apply(lambda row: utils.number_of_jobs(row[\"instance\"]), axis=1)\n",
    "    df[\"size\"] = df.apply(lambda row: utils.instance_size(row[\"instance\"]), axis=1)\n",
    "    #if uc == 2:\n",
    "    #    df = df.query(\"instance != [102, 103, 107, 110, 111, 114, 84, 88, 92, 94, 95, 98]\")\n",
    "    df = df.query(f\"instance > {selector}\")\n",
    "    print(f\"==== UC {uc} === GAP GENERAL ====== \")\n",
    "    display(df[\"gap\"].mean())\n",
    "    display(df[\"gap\"].std())\n",
    "    display(df[[\"size\",\"gap\"]].groupby(\"size\").mean())\n",
    "    display(df[[\"size\",\"gap\"]].groupby(\"size\").std())\n",
    "    return df"
   ]
  },
  {
   "cell_type": "code",
   "execution_count": 50,
   "metadata": {},
   "outputs": [
    {
     "name": "stdout",
     "output_type": "stream",
     "text": [
      "==== UC 1 === GAP GENERAL ====== \n"
     ]
    },
    {
     "data": {
      "text/plain": [
       "-3.5315962499999998"
      ]
     },
     "metadata": {},
     "output_type": "display_data"
    },
    {
     "data": {
      "text/plain": [
       "8.074514493794167"
      ]
     },
     "metadata": {},
     "output_type": "display_data"
    },
    {
     "data": {
      "text/html": [
       "<div>\n",
       "<style scoped>\n",
       "    .dataframe tbody tr th:only-of-type {\n",
       "        vertical-align: middle;\n",
       "    }\n",
       "\n",
       "    .dataframe tbody tr th {\n",
       "        vertical-align: top;\n",
       "    }\n",
       "\n",
       "    .dataframe thead th {\n",
       "        text-align: right;\n",
       "    }\n",
       "</style>\n",
       "<table border=\"1\" class=\"dataframe\">\n",
       "  <thead>\n",
       "    <tr style=\"text-align: right;\">\n",
       "      <th></th>\n",
       "      <th>gap</th>\n",
       "    </tr>\n",
       "    <tr>\n",
       "      <th>size</th>\n",
       "      <th></th>\n",
       "    </tr>\n",
       "  </thead>\n",
       "  <tbody>\n",
       "    <tr>\n",
       "      <th>Large</th>\n",
       "      <td>-6.846648</td>\n",
       "    </tr>\n",
       "    <tr>\n",
       "      <th>Medium</th>\n",
       "      <td>-0.216545</td>\n",
       "    </tr>\n",
       "  </tbody>\n",
       "</table>\n",
       "</div>"
      ],
      "text/plain": [
       "             gap\n",
       "size            \n",
       "Large  -6.846648\n",
       "Medium -0.216545"
      ]
     },
     "metadata": {},
     "output_type": "display_data"
    },
    {
     "data": {
      "text/html": [
       "<div>\n",
       "<style scoped>\n",
       "    .dataframe tbody tr th:only-of-type {\n",
       "        vertical-align: middle;\n",
       "    }\n",
       "\n",
       "    .dataframe tbody tr th {\n",
       "        vertical-align: top;\n",
       "    }\n",
       "\n",
       "    .dataframe thead th {\n",
       "        text-align: right;\n",
       "    }\n",
       "</style>\n",
       "<table border=\"1\" class=\"dataframe\">\n",
       "  <thead>\n",
       "    <tr style=\"text-align: right;\">\n",
       "      <th></th>\n",
       "      <th>gap</th>\n",
       "    </tr>\n",
       "    <tr>\n",
       "      <th>size</th>\n",
       "      <th></th>\n",
       "    </tr>\n",
       "  </thead>\n",
       "  <tbody>\n",
       "    <tr>\n",
       "      <th>Large</th>\n",
       "      <td>10.384725</td>\n",
       "    </tr>\n",
       "    <tr>\n",
       "      <th>Medium</th>\n",
       "      <td>1.296958</td>\n",
       "    </tr>\n",
       "  </tbody>\n",
       "</table>\n",
       "</div>"
      ],
      "text/plain": [
       "              gap\n",
       "size             \n",
       "Large   10.384725\n",
       "Medium   1.296958"
      ]
     },
     "metadata": {},
     "output_type": "display_data"
    },
    {
     "name": "stdout",
     "output_type": "stream",
     "text": [
      "==== UC 2 === GAP GENERAL ====== \n"
     ]
    },
    {
     "data": {
      "text/plain": [
       "-6.23840125"
      ]
     },
     "metadata": {},
     "output_type": "display_data"
    },
    {
     "data": {
      "text/plain": [
       "10.504050593003546"
      ]
     },
     "metadata": {},
     "output_type": "display_data"
    },
    {
     "data": {
      "text/html": [
       "<div>\n",
       "<style scoped>\n",
       "    .dataframe tbody tr th:only-of-type {\n",
       "        vertical-align: middle;\n",
       "    }\n",
       "\n",
       "    .dataframe tbody tr th {\n",
       "        vertical-align: top;\n",
       "    }\n",
       "\n",
       "    .dataframe thead th {\n",
       "        text-align: right;\n",
       "    }\n",
       "</style>\n",
       "<table border=\"1\" class=\"dataframe\">\n",
       "  <thead>\n",
       "    <tr style=\"text-align: right;\">\n",
       "      <th></th>\n",
       "      <th>gap</th>\n",
       "    </tr>\n",
       "    <tr>\n",
       "      <th>size</th>\n",
       "      <th></th>\n",
       "    </tr>\n",
       "  </thead>\n",
       "  <tbody>\n",
       "    <tr>\n",
       "      <th>Large</th>\n",
       "      <td>-13.644845</td>\n",
       "    </tr>\n",
       "    <tr>\n",
       "      <th>Medium</th>\n",
       "      <td>1.168042</td>\n",
       "    </tr>\n",
       "  </tbody>\n",
       "</table>\n",
       "</div>"
      ],
      "text/plain": [
       "              gap\n",
       "size             \n",
       "Large  -13.644845\n",
       "Medium   1.168042"
      ]
     },
     "metadata": {},
     "output_type": "display_data"
    },
    {
     "data": {
      "text/html": [
       "<div>\n",
       "<style scoped>\n",
       "    .dataframe tbody tr th:only-of-type {\n",
       "        vertical-align: middle;\n",
       "    }\n",
       "\n",
       "    .dataframe tbody tr th {\n",
       "        vertical-align: top;\n",
       "    }\n",
       "\n",
       "    .dataframe thead th {\n",
       "        text-align: right;\n",
       "    }\n",
       "</style>\n",
       "<table border=\"1\" class=\"dataframe\">\n",
       "  <thead>\n",
       "    <tr style=\"text-align: right;\">\n",
       "      <th></th>\n",
       "      <th>gap</th>\n",
       "    </tr>\n",
       "    <tr>\n",
       "      <th>size</th>\n",
       "      <th></th>\n",
       "    </tr>\n",
       "  </thead>\n",
       "  <tbody>\n",
       "    <tr>\n",
       "      <th>Large</th>\n",
       "      <td>10.255865</td>\n",
       "    </tr>\n",
       "    <tr>\n",
       "      <th>Medium</th>\n",
       "      <td>2.406779</td>\n",
       "    </tr>\n",
       "  </tbody>\n",
       "</table>\n",
       "</div>"
      ],
      "text/plain": [
       "              gap\n",
       "size             \n",
       "Large   10.255865\n",
       "Medium   2.406779"
      ]
     },
     "metadata": {},
     "output_type": "display_data"
    },
    {
     "name": "stdout",
     "output_type": "stream",
     "text": [
      "==== UC 3 === GAP GENERAL ====== \n"
     ]
    },
    {
     "data": {
      "text/plain": [
       "-4.8901562499999995"
      ]
     },
     "metadata": {},
     "output_type": "display_data"
    },
    {
     "data": {
      "text/plain": [
       "5.762336603484664"
      ]
     },
     "metadata": {},
     "output_type": "display_data"
    },
    {
     "data": {
      "text/html": [
       "<div>\n",
       "<style scoped>\n",
       "    .dataframe tbody tr th:only-of-type {\n",
       "        vertical-align: middle;\n",
       "    }\n",
       "\n",
       "    .dataframe tbody tr th {\n",
       "        vertical-align: top;\n",
       "    }\n",
       "\n",
       "    .dataframe thead th {\n",
       "        text-align: right;\n",
       "    }\n",
       "</style>\n",
       "<table border=\"1\" class=\"dataframe\">\n",
       "  <thead>\n",
       "    <tr style=\"text-align: right;\">\n",
       "      <th></th>\n",
       "      <th>gap</th>\n",
       "    </tr>\n",
       "    <tr>\n",
       "      <th>size</th>\n",
       "      <th></th>\n",
       "    </tr>\n",
       "  </thead>\n",
       "  <tbody>\n",
       "    <tr>\n",
       "      <th>Large</th>\n",
       "      <td>-8.722897</td>\n",
       "    </tr>\n",
       "    <tr>\n",
       "      <th>Medium</th>\n",
       "      <td>-1.057415</td>\n",
       "    </tr>\n",
       "  </tbody>\n",
       "</table>\n",
       "</div>"
      ],
      "text/plain": [
       "             gap\n",
       "size            \n",
       "Large  -8.722897\n",
       "Medium -1.057415"
      ]
     },
     "metadata": {},
     "output_type": "display_data"
    },
    {
     "data": {
      "text/html": [
       "<div>\n",
       "<style scoped>\n",
       "    .dataframe tbody tr th:only-of-type {\n",
       "        vertical-align: middle;\n",
       "    }\n",
       "\n",
       "    .dataframe tbody tr th {\n",
       "        vertical-align: top;\n",
       "    }\n",
       "\n",
       "    .dataframe thead th {\n",
       "        text-align: right;\n",
       "    }\n",
       "</style>\n",
       "<table border=\"1\" class=\"dataframe\">\n",
       "  <thead>\n",
       "    <tr style=\"text-align: right;\">\n",
       "      <th></th>\n",
       "      <th>gap</th>\n",
       "    </tr>\n",
       "    <tr>\n",
       "      <th>size</th>\n",
       "      <th></th>\n",
       "    </tr>\n",
       "  </thead>\n",
       "  <tbody>\n",
       "    <tr>\n",
       "      <th>Large</th>\n",
       "      <td>5.852258</td>\n",
       "    </tr>\n",
       "    <tr>\n",
       "      <th>Medium</th>\n",
       "      <td>1.696581</td>\n",
       "    </tr>\n",
       "  </tbody>\n",
       "</table>\n",
       "</div>"
      ],
      "text/plain": [
       "             gap\n",
       "size            \n",
       "Large   5.852258\n",
       "Medium  1.696581"
      ]
     },
     "metadata": {},
     "output_type": "display_data"
    }
   ],
   "source": [
    "selector = 40\n",
    "df_1 = create_df_for_gap(1,selector)[[\"instance\", \"total_cost_min\", \"ilp\", \"cp\", \"LNS\", \"gap\", \"n_jobs\",\"size\",\"label_gap\",\"label_nuances\"]].query(f\"instance > {selector}\").copy().rename(columns={\"total_cost_min\":\"SA\", \"ilp\":\"ILP\", \"cp\":\"CP\"})\n",
    "df_2 = create_df_for_gap(2,selector)[[\"instance\", \"total_cost_min\", \"ilp\", \"cp\", \"LNS\", \"gap\", \"n_jobs\",\"size\",\"label_gap\",\"label_nuances\"]].query(f\"instance > {selector}\").copy().rename(columns={\"total_cost_min\":\"SA\", \"ilp\":\"ILP\", \"cp\":\"CP\"})\n",
    "df_3 = create_df_for_gap(3,selector)[[\"instance\", \"total_cost_min\", \"ilp\", \"cp\", \"LNS\", \"gap\", \"n_jobs\",\"size\",\"label_gap\",\"label_nuances\"]].query(f\"instance > {selector}\").copy().rename(columns={\"total_cost_min\":\"SA\", \"ilp\":\"ILP\", \"cp\":\"CP\"})"
   ]
  },
  {
   "cell_type": "code",
   "execution_count": 51,
   "metadata": {},
   "outputs": [],
   "source": [
    "# selector = 40\n",
    "# cols = [\"instance\", \"total_cost_min\", \"ilp\", \"cp\", \"LNS\", \"gap_cp\", \"gap_ilp\", \"gap_lns\",\"n_jobs\",\"size\",\"label_gap\",\"label_nuances\"]\n",
    "# df_1_gappy = create_df_for_gap(1,selector)[cols].query(f\"instance > {selector}\").copy().rename(columns={\"total_cost_min\":\"SA\", \"ilp\":\"ILP\", \"cp\":\"CP\"})\n",
    "# df_2_gappy = create_df_for_gap(2,selector)[cols].query(f\"instance > {selector}\").copy().rename(columns={\"total_cost_min\":\"SA\", \"ilp\":\"ILP\", \"cp\":\"CP\"})\n",
    "# df_3_gappy = create_df_for_gap(3,selector)[cols].query(f\"instance > {selector}\").copy().rename(columns={\"total_cost_min\":\"SA\", \"ilp\":\"ILP\", \"cp\":\"CP\"})"
   ]
  },
  {
   "cell_type": "code",
   "execution_count": 52,
   "metadata": {},
   "outputs": [
    {
     "name": "stderr",
     "output_type": "stream",
     "text": [
      "/var/folders/tm/vk6plqp1543cptt9z15vkbk40000gn/T/ipykernel_3415/2386152893.py:31: UserWarning: FigureCanvasAgg is non-interactive, and thus cannot be shown\n",
      "  plt.show()\n"
     ]
    }
   ],
   "source": [
    "fig,(ax1,ax2,ax3) = plt.subplots(nrows=1, ncols=3, figsize=(10,4),sharey=True)\n",
    "order = [\"Medium\",\"Large\"]\n",
    "palette = [ \"white\", \"white\"] #[sns.color_palette()[0],sns.color_palette()[1]]\n",
    "\n",
    "sns.boxplot(ax=ax1, x='size', y='gap', data=df_1, order=order,palette=palette, hue=\"size\", linecolor=\"black\")#  boxprops=dict(facecolor='#FFFFFF', alpha=1, zorder = 1)\n",
    "ax1.set_ylabel('Gap [%]', )\n",
    "ax1.set_xlabel(None, )\n",
    "#ax1.set_ylim(-60,20)\n",
    "ax1.set_title(\"UC-1\",)\n",
    "ax1.tick_params(axis='both', which='major', )\n",
    "\n",
    "#df_2 = df_2.query(\"instance != [110, 114, 111, 107, 103, 102]\")\n",
    "sns.boxplot(ax=ax2, x='size', y='gap', data=df_2,  order=order,palette=palette, hue=\"size\",linecolor=\"black\")#  boxprops=dict(facecolor='#FFFFFF', alpha=1, zorder = 1)\n",
    "#sns.swarmplot(ax=ax, x='size', y='gap', data=df, order=order, s=7, palette=palette,alpha = 0.75)\n",
    "ax2.set_ylabel(None, )\n",
    "ax2.set_xlabel(None, )\n",
    "#ax2.set_ylim(-60,15)\n",
    "ax2.set_title(\"UC-2\",)\n",
    "ax2.tick_params(axis='both', which='major', )\n",
    "\n",
    "sns.boxplot(ax=ax3, x='size', y='gap', data=df_3,  order=order,palette=palette, hue=\"size\",linecolor=\"black\")#  boxprops=dict(facecolor='#FFFFFF', alpha=1, zorder = 1)\n",
    "#sns.swarmplot(ax=ax, x='size', y='gap', data=df, order=order, s=7, palette=palette,alpha = 0.75)\n",
    "ax3.set_ylabel(None, )\n",
    "ax3.set_xlabel(None, )\n",
    "# ax3.set_ylim(-60,15)\n",
    "ax3.set_title(\"UC-3\",)\n",
    "ax3.tick_params(axis='both', which='major', )\n",
    "\n",
    "plt.tight_layout()\n",
    "fig.figure.savefig(f\"sa-gap-1-milion.pdf\",)\n",
    "plt.show()"
   ]
  },
  {
   "cell_type": "code",
   "execution_count": 53,
   "metadata": {},
   "outputs": [
    {
     "data": {
      "text/html": [
       "<div>\n",
       "<style scoped>\n",
       "    .dataframe tbody tr th:only-of-type {\n",
       "        vertical-align: middle;\n",
       "    }\n",
       "\n",
       "    .dataframe tbody tr th {\n",
       "        vertical-align: top;\n",
       "    }\n",
       "\n",
       "    .dataframe thead th {\n",
       "        text-align: right;\n",
       "    }\n",
       "</style>\n",
       "<table border=\"1\" class=\"dataframe\">\n",
       "  <thead>\n",
       "    <tr style=\"text-align: right;\">\n",
       "      <th></th>\n",
       "      <th></th>\n",
       "      <th>instance</th>\n",
       "    </tr>\n",
       "    <tr>\n",
       "      <th>size</th>\n",
       "      <th>label_nuances</th>\n",
       "      <th></th>\n",
       "    </tr>\n",
       "  </thead>\n",
       "  <tbody>\n",
       "    <tr>\n",
       "      <th rowspan=\"3\" valign=\"top\">Large</th>\n",
       "      <th>&lt; -1</th>\n",
       "      <td>37</td>\n",
       "    </tr>\n",
       "    <tr>\n",
       "      <th>&gt;1</th>\n",
       "      <td>2</td>\n",
       "    </tr>\n",
       "    <tr>\n",
       "      <th>equal</th>\n",
       "      <td>1</td>\n",
       "    </tr>\n",
       "    <tr>\n",
       "      <th rowspan=\"5\" valign=\"top\">Medium</th>\n",
       "      <th>0 to 1</th>\n",
       "      <td>10</td>\n",
       "    </tr>\n",
       "    <tr>\n",
       "      <th>-1 to 0</th>\n",
       "      <td>5</td>\n",
       "    </tr>\n",
       "    <tr>\n",
       "      <th>&lt; -1</th>\n",
       "      <td>2</td>\n",
       "    </tr>\n",
       "    <tr>\n",
       "      <th>&gt;1</th>\n",
       "      <td>14</td>\n",
       "    </tr>\n",
       "    <tr>\n",
       "      <th>equal</th>\n",
       "      <td>9</td>\n",
       "    </tr>\n",
       "  </tbody>\n",
       "</table>\n",
       "</div>"
      ],
      "text/plain": [
       "                      instance\n",
       "size   label_nuances          \n",
       "Large  < -1                 37\n",
       "       >1                    2\n",
       "       equal                 1\n",
       "Medium  0 to 1              10\n",
       "       -1 to 0               5\n",
       "       < -1                  2\n",
       "       >1                   14\n",
       "       equal                 9"
      ]
     },
     "execution_count": 53,
     "metadata": {},
     "output_type": "execute_result"
    }
   ],
   "source": [
    "df_2[[\"size\",\"label_nuances\",\"instance\"]].groupby([\"size\",\"label_nuances\"]).count()"
   ]
  },
  {
   "cell_type": "code",
   "execution_count": 54,
   "metadata": {},
   "outputs": [
    {
     "data": {
      "text/html": [
       "<div>\n",
       "<style scoped>\n",
       "    .dataframe tbody tr th:only-of-type {\n",
       "        vertical-align: middle;\n",
       "    }\n",
       "\n",
       "    .dataframe tbody tr th {\n",
       "        vertical-align: top;\n",
       "    }\n",
       "\n",
       "    .dataframe thead th {\n",
       "        text-align: right;\n",
       "    }\n",
       "</style>\n",
       "<table border=\"1\" class=\"dataframe\">\n",
       "  <thead>\n",
       "    <tr style=\"text-align: right;\">\n",
       "      <th></th>\n",
       "      <th></th>\n",
       "      <th>instance</th>\n",
       "    </tr>\n",
       "    <tr>\n",
       "      <th>size</th>\n",
       "      <th>label_nuances</th>\n",
       "      <th></th>\n",
       "    </tr>\n",
       "  </thead>\n",
       "  <tbody>\n",
       "    <tr>\n",
       "      <th rowspan=\"2\" valign=\"top\">Large</th>\n",
       "      <th>-1 to 0</th>\n",
       "      <td>1</td>\n",
       "    </tr>\n",
       "    <tr>\n",
       "      <th>&lt; -1</th>\n",
       "      <td>39</td>\n",
       "    </tr>\n",
       "    <tr>\n",
       "      <th rowspan=\"5\" valign=\"top\">Medium</th>\n",
       "      <th>0 to 1</th>\n",
       "      <td>2</td>\n",
       "    </tr>\n",
       "    <tr>\n",
       "      <th>-1 to 0</th>\n",
       "      <td>9</td>\n",
       "    </tr>\n",
       "    <tr>\n",
       "      <th>&lt; -1</th>\n",
       "      <td>12</td>\n",
       "    </tr>\n",
       "    <tr>\n",
       "      <th>&gt;1</th>\n",
       "      <td>1</td>\n",
       "    </tr>\n",
       "    <tr>\n",
       "      <th>equal</th>\n",
       "      <td>16</td>\n",
       "    </tr>\n",
       "  </tbody>\n",
       "</table>\n",
       "</div>"
      ],
      "text/plain": [
       "                      instance\n",
       "size   label_nuances          \n",
       "Large  -1 to 0               1\n",
       "       < -1                 39\n",
       "Medium  0 to 1               2\n",
       "       -1 to 0               9\n",
       "       < -1                 12\n",
       "       >1                    1\n",
       "       equal                16"
      ]
     },
     "execution_count": 54,
     "metadata": {},
     "output_type": "execute_result"
    }
   ],
   "source": [
    "df_3[[\"size\",\"label_nuances\",\"instance\"]].groupby([\"size\",\"label_nuances\"]).count()"
   ]
  },
  {
   "cell_type": "code",
   "execution_count": null,
   "metadata": {},
   "outputs": [],
   "source": []
  }
 ],
 "metadata": {
  "kernelspec": {
   "display_name": "Python 3",
   "language": "python",
   "name": "python3"
  },
  "language_info": {
   "codemirror_mode": {
    "name": "ipython",
    "version": 3
   },
   "file_extension": ".py",
   "mimetype": "text/x-python",
   "name": "python",
   "nbconvert_exporter": "python",
   "pygments_lexer": "ipython3",
   "version": "3.12.3"
  }
 },
 "nbformat": 4,
 "nbformat_minor": 2
}
